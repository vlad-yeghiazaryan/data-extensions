{
 "cells": [
  {
   "cell_type": "markdown",
   "metadata": {},
   "source": [
    "# Empty series imputation methods"
   ]
  },
  {
   "cell_type": "code",
   "execution_count": 8,
   "metadata": {},
   "outputs": [],
   "source": [
    "# main\n",
    "import numpy as np\n",
    "import pandas as pd\n",
    "\n",
    "# Models\n",
    "from sklearn.linear_model import LinearRegression, BayesianRidge, Ridge\n",
    "\n",
    "# missing data handling\n",
    "from sklearn.preprocessing import StandardScaler, RobustScaler\n",
    "\n",
    "# custom functions\n",
    "from panel_imputation import EmptySeriesImputer"
   ]
  },
  {
   "cell_type": "code",
   "execution_count": 11,
   "metadata": {},
   "outputs": [
    {
     "data": {
      "text/html": [
       "<div>\n",
       "<style scoped>\n",
       "    .dataframe tbody tr th:only-of-type {\n",
       "        vertical-align: middle;\n",
       "    }\n",
       "\n",
       "    .dataframe tbody tr th {\n",
       "        vertical-align: top;\n",
       "    }\n",
       "\n",
       "    .dataframe thead th {\n",
       "        text-align: right;\n",
       "    }\n",
       "</style>\n",
       "<table border=\"1\" class=\"dataframe\">\n",
       "  <thead>\n",
       "    <tr style=\"text-align: right;\">\n",
       "      <th></th>\n",
       "      <th>variable</th>\n",
       "      <th>Variable1</th>\n",
       "      <th>Variable2</th>\n",
       "      <th>Variable3</th>\n",
       "      <th>Variable4</th>\n",
       "    </tr>\n",
       "    <tr>\n",
       "      <th>country</th>\n",
       "      <th>date</th>\n",
       "      <th></th>\n",
       "      <th></th>\n",
       "      <th></th>\n",
       "      <th></th>\n",
       "    </tr>\n",
       "  </thead>\n",
       "  <tbody>\n",
       "    <tr>\n",
       "      <th rowspan=\"5\" valign=\"top\">A</th>\n",
       "      <th>2020-01-01</th>\n",
       "      <td>1.0</td>\n",
       "      <td>NaN</td>\n",
       "      <td>NaN</td>\n",
       "      <td>0.50</td>\n",
       "    </tr>\n",
       "    <tr>\n",
       "      <th>2020-02-01</th>\n",
       "      <td>2.0</td>\n",
       "      <td>NaN</td>\n",
       "      <td>NaN</td>\n",
       "      <td>0.60</td>\n",
       "    </tr>\n",
       "    <tr>\n",
       "      <th>2020-03-01</th>\n",
       "      <td>1.5</td>\n",
       "      <td>NaN</td>\n",
       "      <td>NaN</td>\n",
       "      <td>0.40</td>\n",
       "    </tr>\n",
       "    <tr>\n",
       "      <th>2020-04-01</th>\n",
       "      <td>3.0</td>\n",
       "      <td>NaN</td>\n",
       "      <td>NaN</td>\n",
       "      <td>0.75</td>\n",
       "    </tr>\n",
       "    <tr>\n",
       "      <th>2020-05-01</th>\n",
       "      <td>4.0</td>\n",
       "      <td>NaN</td>\n",
       "      <td>NaN</td>\n",
       "      <td>1.25</td>\n",
       "    </tr>\n",
       "    <tr>\n",
       "      <th>B</th>\n",
       "      <th>2020-01-01</th>\n",
       "      <td>100.0</td>\n",
       "      <td>10.0</td>\n",
       "      <td>12.0</td>\n",
       "      <td>50.00</td>\n",
       "    </tr>\n",
       "  </tbody>\n",
       "</table>\n",
       "</div>"
      ],
      "text/plain": [
       "variable            Variable1  Variable2  Variable3  Variable4\n",
       "country date                                                  \n",
       "A       2020-01-01        1.0        NaN        NaN       0.50\n",
       "        2020-02-01        2.0        NaN        NaN       0.60\n",
       "        2020-03-01        1.5        NaN        NaN       0.40\n",
       "        2020-04-01        3.0        NaN        NaN       0.75\n",
       "        2020-05-01        4.0        NaN        NaN       1.25\n",
       "B       2020-01-01      100.0       10.0       12.0      50.00"
      ]
     },
     "metadata": {},
     "output_type": "display_data"
    }
   ],
   "source": [
    "# simulation of missing data\n",
    "data = {\n",
    "    'country': [\"A\", \"A\", \"A\", \"A\", \"A\", \"B\", \"B\", \"B\", \"B\", \"B\", \"C\", \"C\", \"C\", \"C\", \"C\"],\n",
    "    'date': ['2020-01-01', '2020-02-01', '2020-03-01', '2020-04-01', '2020-05-01',\n",
    "             '2020-01-01', '2020-02-01', '2020-03-01', '2020-04-01', '2020-05-01',\n",
    "             '2020-01-01', '2020-02-01', '2020-03-01', '2020-04-01', '2020-05-01'],\n",
    "    'Variable1': [1, 2, 1.5, 3, 4, 100, 150, 130, 250, 400, 50, 110, 100, 150, 200],\n",
    "    'Variable2': [30, 25, 23, 16, 9, 10, 7, 6.5, 4, 3, 100, 90, 80, 68, 56],\n",
    "    'Variable3': [20, 10, 9.5, 7.5, 7, 12, 8, 7, 5, 4, 15, 13, 11, 8.5, 6],\n",
    "    'Variable4': [0.5, 0.6, 0.4, 0.75, 1.25, 50, 40, 42, 35, 20, 0.5, 0.6, 0.5, 0.9, 1.5],\n",
    "}\n",
    "panel_df = pd.DataFrame(data).set_index(['country', 'date'])\n",
    "panel_df.columns.name = 'variable'\n",
    "# panel_df.loc['A', 'Variable1'] = np.NaN\n",
    "panel_df.loc['A', 'Variable2'] = np.NaN\n",
    "panel_df.loc['A', 'Variable3'] = np.NaN\n",
    "display(panel_df.head(6))"
   ]
  },
  {
   "cell_type": "code",
   "execution_count": 10,
   "metadata": {},
   "outputs": [
    {
     "data": {
      "application/vnd.jupyter.widget-view+json": {
       "model_id": "8bc54887ef8540ea961b4c45f28d378e",
       "version_major": 2,
       "version_minor": 0
      },
      "text/plain": [
       "  0%|          | 0/144 [00:00<?, ?it/s]"
      ]
     },
     "metadata": {},
     "output_type": "display_data"
    },
    {
     "ename": "ValueError",
     "evalue": "shape mismatch: value array of shape (3,) could not be broadcast to indexing result of shape (1,)",
     "output_type": "error",
     "traceback": [
      "\u001b[0;31m---------------------------------------------------------------------------\u001b[0m",
      "\u001b[0;31mValueError\u001b[0m                                Traceback (most recent call last)",
      "\u001b[1;32m/Users/victoryerz/Desktop/data-extensions/Examples.ipynb Cell 4\u001b[0m line \u001b[0;36m1\n\u001b[1;32m      <a href='vscode-notebook-cell:/Users/victoryerz/Desktop/data-extensions/Examples.ipynb#W4sZmlsZQ%3D%3D?line=1'>2</a>\u001b[0m search_params \u001b[39m=\u001b[39m {\n\u001b[1;32m      <a href='vscode-notebook-cell:/Users/victoryerz/Desktop/data-extensions/Examples.ipynb#W4sZmlsZQ%3D%3D?line=2'>3</a>\u001b[0m     \u001b[39m'\u001b[39m\u001b[39mfill_method\u001b[39m\u001b[39m'\u001b[39m: [\u001b[39m'\u001b[39m\u001b[39mcountry\u001b[39m\u001b[39m'\u001b[39m, \u001b[39m'\u001b[39m\u001b[39mvariable\u001b[39m\u001b[39m'\u001b[39m],\n\u001b[1;32m      <a href='vscode-notebook-cell:/Users/victoryerz/Desktop/data-extensions/Examples.ipynb#W4sZmlsZQ%3D%3D?line=3'>4</a>\u001b[0m     \u001b[39m'\u001b[39m\u001b[39mscaler\u001b[39m\u001b[39m'\u001b[39m: [StandardScaler(), RobustScaler(quantile_range\u001b[39m=\u001b[39m(\u001b[39m5.0\u001b[39m, \u001b[39m95.0\u001b[39m)),\n\u001b[0;32m   (...)\u001b[0m\n\u001b[1;32m      <a href='vscode-notebook-cell:/Users/victoryerz/Desktop/data-extensions/Examples.ipynb#W4sZmlsZQ%3D%3D?line=8'>9</a>\u001b[0m     \u001b[39m'\u001b[39m\u001b[39malternative_priority_bias\u001b[39m\u001b[39m'\u001b[39m: [\u001b[39mFalse\u001b[39;00m, \u001b[39mTrue\u001b[39;00m]\n\u001b[1;32m     <a href='vscode-notebook-cell:/Users/victoryerz/Desktop/data-extensions/Examples.ipynb#W4sZmlsZQ%3D%3D?line=9'>10</a>\u001b[0m }\n\u001b[1;32m     <a href='vscode-notebook-cell:/Users/victoryerz/Desktop/data-extensions/Examples.ipynb#W4sZmlsZQ%3D%3D?line=10'>11</a>\u001b[0m empty_imputer \u001b[39m=\u001b[39m EmptySeriesImputer(\u001b[39m'\u001b[39m\u001b[39mvariable\u001b[39m\u001b[39m'\u001b[39m)\n\u001b[0;32m---> <a href='vscode-notebook-cell:/Users/victoryerz/Desktop/data-extensions/Examples.ipynb#W4sZmlsZQ%3D%3D?line=11'>12</a>\u001b[0m calibration_results \u001b[39m=\u001b[39m empty_imputer\u001b[39m.\u001b[39mrun_calibration(panel_df, search_params, partial_replica\u001b[39m=\u001b[39m\u001b[39mTrue\u001b[39;00m, recursive_replication\u001b[39m=\u001b[39m\u001b[39mTrue\u001b[39;00m)\n",
      "File \u001b[0;32m~/Desktop/data-extensions/panel_imputation.py:236\u001b[0m, in \u001b[0;36mEmptySeriesImputer.run_calibration\u001b[0;34m(df, search_params, partial_replica, recursive_replication)\u001b[0m\n\u001b[1;32m    232\u001b[0m \u001b[39mfor\u001b[39;00m param \u001b[39min\u001b[39;00m tqdm(param_combinations):\n\u001b[1;32m    233\u001b[0m     empty_imputer \u001b[39m=\u001b[39m EmptySeriesImputer(partial_replica\u001b[39m=\u001b[39mpartial_replica,\n\u001b[1;32m    234\u001b[0m                                     recursive_replication\u001b[39m=\u001b[39mrecursive_replication,\n\u001b[1;32m    235\u001b[0m                                     \u001b[39m*\u001b[39m\u001b[39m*\u001b[39mparam)\n\u001b[0;32m--> 236\u001b[0m     df_calib \u001b[39m=\u001b[39m empty_imputer\u001b[39m.\u001b[39mimpute(df)\n\u001b[1;32m    237\u001b[0m     mp \u001b[39m=\u001b[39m empty_imputer\u001b[39m.\u001b[39mmissing_priority\n\u001b[1;32m    238\u001b[0m     param[\u001b[39m'\u001b[39m\u001b[39mloss\u001b[39m\u001b[39m'\u001b[39m] \u001b[39m=\u001b[39m empty_imputer\u001b[39m.\u001b[39mreplica_loss(df_calib, mp)\n",
      "File \u001b[0;32m~/Desktop/data-extensions/panel_imputation.py:173\u001b[0m, in \u001b[0;36mEmptySeriesImputer.impute\u001b[0;34m(self, df)\u001b[0m\n\u001b[1;32m    170\u001b[0m df_scaled[\u001b[39m'\u001b[39m\u001b[39mconst\u001b[39m\u001b[39m'\u001b[39m] \u001b[39m=\u001b[39m \u001b[39m1\u001b[39m\n\u001b[1;32m    172\u001b[0m \u001b[39m#  perform (recursive) imputation\u001b[39;00m\n\u001b[0;32m--> 173\u001b[0m df_filled \u001b[39m=\u001b[39m \u001b[39mself\u001b[39m\u001b[39m.\u001b[39mrecursive_impute(df_scaled, df_filled)\n\u001b[1;32m    174\u001b[0m \u001b[39mreturn\u001b[39;00m \u001b[39mself\u001b[39m\u001b[39m.\u001b[39mpackage_df(df_filled, Flipped)\n",
      "File \u001b[0;32m~/Desktop/data-extensions/panel_imputation.py:146\u001b[0m, in \u001b[0;36mEmptySeriesImputer.recursive_impute\u001b[0;34m(self, df_scaled, df_filled)\u001b[0m\n\u001b[1;32m    144\u001b[0m \u001b[39m#  perform (recursive) imputation\u001b[39;00m\n\u001b[1;32m    145\u001b[0m \u001b[39mfor\u001b[39;00m group, variable \u001b[39min\u001b[39;00m \u001b[39mself\u001b[39m\u001b[39m.\u001b[39mmissing_priority:\n\u001b[0;32m--> 146\u001b[0m     pred \u001b[39m=\u001b[39m \u001b[39mself\u001b[39m\u001b[39m.\u001b[39maggregate_estimation(df_groups, group_names, group, columns, variable)\n\u001b[1;32m    147\u001b[0m     \u001b[39mif\u001b[39;00m \u001b[39mself\u001b[39m\u001b[39m.\u001b[39mrecursive_imputation:\n\u001b[1;32m    148\u001b[0m         df_scaled\u001b[39m.\u001b[39mloc[group, variable] \u001b[39m=\u001b[39m pred\n",
      "File \u001b[0;32m~/Desktop/data-extensions/panel_imputation.py:127\u001b[0m, in \u001b[0;36mEmptySeriesImputer.aggregate_estimation\u001b[0;34m(self, df_groups, group_names, group, columns, variable)\u001b[0m\n\u001b[1;32m    125\u001b[0m             group_coefs \u001b[39m=\u001b[39m np\u001b[39m.\u001b[39mzeros_like(finite_col_indices, dtype\u001b[39m=\u001b[39m\u001b[39mfloat\u001b[39m)\n\u001b[1;32m    126\u001b[0m             available_coefs \u001b[39m=\u001b[39m np\u001b[39m.\u001b[39mwhere(np\u001b[39m.\u001b[39misin(finite_col_indices, finite_col_indices_group))[\u001b[39m0\u001b[39m]\n\u001b[0;32m--> 127\u001b[0m             group_coefs[available_coefs] \u001b[39m=\u001b[39m some_group_coefs\n\u001b[1;32m    128\u001b[0m             fitted_coefs\u001b[39m.\u001b[39mappend(group_coefs)\n\u001b[1;32m    129\u001b[0m fitted_coefs \u001b[39m=\u001b[39m np\u001b[39m.\u001b[39marray(fitted_coefs)\n",
      "\u001b[0;31mValueError\u001b[0m: shape mismatch: value array of shape (3,) could not be broadcast to indexing result of shape (1,)"
     ]
    }
   ],
   "source": [
    "# Defining param search space\n",
    "search_params = {\n",
    "    'fill_method': ['country', 'variable'],\n",
    "    'scaler': [StandardScaler(), RobustScaler(quantile_range=(5.0, 95.0)),\n",
    "               RobustScaler(quantile_range=(25.0, 75.0))],\n",
    "    'model': [LinearRegression(), BayesianRidge(), Ridge()],\n",
    "    'recursive_imputation': [False, True],\n",
    "    'aggregate_by':['mean', 'pca'],\n",
    "    'alternative_priority_bias': [False, True]\n",
    "}\n",
    "empty_imputer = EmptySeriesImputer('variable')\n",
    "calibration_results = empty_imputer.run_calibration(panel_df, search_params, partial_replica=True, recursive_replication=True)"
   ]
  }
 ],
 "metadata": {
  "kernelspec": {
   "display_name": "base",
   "language": "python",
   "name": "python3"
  },
  "language_info": {
   "codemirror_mode": {
    "name": "ipython",
    "version": 3
   },
   "file_extension": ".py",
   "mimetype": "text/x-python",
   "name": "python",
   "nbconvert_exporter": "python",
   "pygments_lexer": "ipython3",
   "version": "3.11.4"
  }
 },
 "nbformat": 4,
 "nbformat_minor": 2
}
